{
 "cells": [
  {
   "cell_type": "code",
   "execution_count": 1,
   "metadata": {
    "scrolled": true
   },
   "outputs": [],
   "source": [
    "# https://towardsdatascience.com/making-your-own-discover-weekly-f1ac7546fedb\n",
    "import spotipy\n",
    "from spotipy.oauth2 import SpotifyClientCredentials\n",
    "import spotipy.util as util\n",
    "from config import client_id, client_secret, redirect_uri, username, good_playlist_id, bad_playlist_id\n",
    "import numpy as np\n",
    "import pandas as pd\n",
    "\n",
    "#client_credentials_manager = SpotifyClientCredentials(client_id=cid, client_secret=secret) \n",
    "#sp = spotipy.Spotify(client_credentials_manager=client_credentials_manager)\n",
    "scope = 'user-library-read playlist-read-private'\n",
    "token = util.prompt_for_user_token(username, scope, client_id=client_id, client_secret=client_secret, redirect_uri=redirect_uri)\n",
    "if token:\n",
    "    sp = spotipy.Spotify(auth=token)\n",
    "else:\n",
    "    print(\"Can't get token for\", username)"
   ]
  },
  {
   "cell_type": "code",
   "execution_count": 2,
   "metadata": {},
   "outputs": [],
   "source": [
    "def get_playlist_tracks(username, playlist_id):\n",
    "    results = sp.user_playlist_tracks(username, playlist_id)\n",
    "    tracks = results['items']\n",
    "    while results['next']:\n",
    "        results = sp.next(results)\n",
    "        tracks.extend(results['items'])\n",
    "    return tracks"
   ]
  },
  {
   "cell_type": "code",
   "execution_count": 3,
   "metadata": {},
   "outputs": [
    {
     "data": {
      "text/html": [
       "<div>\n",
       "<style scoped>\n",
       "    .dataframe tbody tr th:only-of-type {\n",
       "        vertical-align: middle;\n",
       "    }\n",
       "\n",
       "    .dataframe tbody tr th {\n",
       "        vertical-align: top;\n",
       "    }\n",
       "\n",
       "    .dataframe thead th {\n",
       "        text-align: right;\n",
       "    }\n",
       "</style>\n",
       "<table border=\"1\" class=\"dataframe\">\n",
       "  <thead>\n",
       "    <tr style=\"text-align: right;\">\n",
       "      <th></th>\n",
       "      <th>id</th>\n",
       "      <th>name</th>\n",
       "      <th>popularity</th>\n",
       "    </tr>\n",
       "  </thead>\n",
       "  <tbody>\n",
       "    <tr>\n",
       "      <th>259</th>\n",
       "      <td>70nr0Rr3BFoxZo8ZOAgHdE</td>\n",
       "      <td>Thinkin Bout U - VIP Mix</td>\n",
       "      <td>37</td>\n",
       "    </tr>\n",
       "    <tr>\n",
       "      <th>260</th>\n",
       "      <td>1f4p1hDsYdSrgmNeIlwpad</td>\n",
       "      <td>Bad Timing (with loren north)</td>\n",
       "      <td>41</td>\n",
       "    </tr>\n",
       "    <tr>\n",
       "      <th>261</th>\n",
       "      <td>7kGIyYQc44EQcJR3HH314y</td>\n",
       "      <td>Better Not (feat. Wafia) - Shaun Frank Remix</td>\n",
       "      <td>44</td>\n",
       "    </tr>\n",
       "    <tr>\n",
       "      <th>262</th>\n",
       "      <td>19Y4vTCoDl0Nu4fnO6jMZE</td>\n",
       "      <td>Dirty Mind - Disco Fries Remix (feat. Ty Dolla...</td>\n",
       "      <td>34</td>\n",
       "    </tr>\n",
       "    <tr>\n",
       "      <th>263</th>\n",
       "      <td>6D5pfooPP6hi99RaXjkDsP</td>\n",
       "      <td>Summertime Sadness [Lana Del Rey vs. Cedric Ge...</td>\n",
       "      <td>13</td>\n",
       "    </tr>\n",
       "  </tbody>\n",
       "</table>\n",
       "</div>"
      ],
      "text/plain": [
       "                         id  \\\n",
       "259  70nr0Rr3BFoxZo8ZOAgHdE   \n",
       "260  1f4p1hDsYdSrgmNeIlwpad   \n",
       "261  7kGIyYQc44EQcJR3HH314y   \n",
       "262  19Y4vTCoDl0Nu4fnO6jMZE   \n",
       "263  6D5pfooPP6hi99RaXjkDsP   \n",
       "\n",
       "                                                  name  popularity  \n",
       "259                           Thinkin Bout U - VIP Mix          37  \n",
       "260                      Bad Timing (with loren north)          41  \n",
       "261       Better Not (feat. Wafia) - Shaun Frank Remix          44  \n",
       "262  Dirty Mind - Disco Fries Remix (feat. Ty Dolla...          34  \n",
       "263  Summertime Sadness [Lana Del Rey vs. Cedric Ge...          13  "
      ]
     },
     "execution_count": 3,
     "metadata": {},
     "output_type": "execute_result"
    }
   ],
   "source": [
    "good_tracks = get_playlist_tracks(username, good_playlist_id)\n",
    "\n",
    "data_good = []\n",
    "\n",
    "for i in range(len(good_tracks)):\n",
    "    row = [good_tracks[i]['track']['id'],\n",
    "          good_tracks[i]['track']['name'],\n",
    "          good_tracks[i]['track']['popularity']]\n",
    "    data_good.append(row)\n",
    "\n",
    "df_good = pd.DataFrame(data=data_good,columns=['id','name','popularity'])\n",
    "df_good.tail()"
   ]
  },
  {
   "cell_type": "code",
   "execution_count": 4,
   "metadata": {},
   "outputs": [],
   "source": [
    "df_good.to_csv('good_songs.csv', index=False)"
   ]
  },
  {
   "cell_type": "code",
   "execution_count": 5,
   "metadata": {},
   "outputs": [
    {
     "data": {
      "text/html": [
       "<div>\n",
       "<style scoped>\n",
       "    .dataframe tbody tr th:only-of-type {\n",
       "        vertical-align: middle;\n",
       "    }\n",
       "\n",
       "    .dataframe tbody tr th {\n",
       "        vertical-align: top;\n",
       "    }\n",
       "\n",
       "    .dataframe thead th {\n",
       "        text-align: right;\n",
       "    }\n",
       "</style>\n",
       "<table border=\"1\" class=\"dataframe\">\n",
       "  <thead>\n",
       "    <tr style=\"text-align: right;\">\n",
       "      <th></th>\n",
       "      <th>id</th>\n",
       "      <th>name</th>\n",
       "      <th>popularity</th>\n",
       "    </tr>\n",
       "  </thead>\n",
       "  <tbody>\n",
       "    <tr>\n",
       "      <th>236</th>\n",
       "      <td>1mKXFLRA179hdOWQBwUk9e</td>\n",
       "      <td>Just Give Me a Reason (feat. Nate Ruess)</td>\n",
       "      <td>76</td>\n",
       "    </tr>\n",
       "    <tr>\n",
       "      <th>237</th>\n",
       "      <td>2ZQ4Q9xL7W8FEgO1d4o7YH</td>\n",
       "      <td>Don't Let Me Get Me - Radio Edit</td>\n",
       "      <td>10</td>\n",
       "    </tr>\n",
       "    <tr>\n",
       "      <th>238</th>\n",
       "      <td>5rgy6ghBq1eRApCkeUdJXf</td>\n",
       "      <td>We Are Young (feat. Janelle Monáe)</td>\n",
       "      <td>70</td>\n",
       "    </tr>\n",
       "    <tr>\n",
       "      <th>239</th>\n",
       "      <td>67WTwafOMgegV6ABnBQxcE</td>\n",
       "      <td>Some Nights</td>\n",
       "      <td>67</td>\n",
       "    </tr>\n",
       "    <tr>\n",
       "      <th>240</th>\n",
       "      <td>53Y0kdCa1CZ9gRqEuknfwy</td>\n",
       "      <td>Bang My Head (feat. Sia &amp; Fetty Wap)</td>\n",
       "      <td>62</td>\n",
       "    </tr>\n",
       "  </tbody>\n",
       "</table>\n",
       "</div>"
      ],
      "text/plain": [
       "                         id                                      name  \\\n",
       "236  1mKXFLRA179hdOWQBwUk9e  Just Give Me a Reason (feat. Nate Ruess)   \n",
       "237  2ZQ4Q9xL7W8FEgO1d4o7YH          Don't Let Me Get Me - Radio Edit   \n",
       "238  5rgy6ghBq1eRApCkeUdJXf        We Are Young (feat. Janelle Monáe)   \n",
       "239  67WTwafOMgegV6ABnBQxcE                               Some Nights   \n",
       "240  53Y0kdCa1CZ9gRqEuknfwy      Bang My Head (feat. Sia & Fetty Wap)   \n",
       "\n",
       "     popularity  \n",
       "236          76  \n",
       "237          10  \n",
       "238          70  \n",
       "239          67  \n",
       "240          62  "
      ]
     },
     "execution_count": 5,
     "metadata": {},
     "output_type": "execute_result"
    }
   ],
   "source": [
    "bad_tracks = get_playlist_tracks(username, bad_playlist_id)\n",
    "\n",
    "data_bad = []\n",
    "\n",
    "for i in range(len(bad_tracks)):\n",
    "    row = [bad_tracks[i]['track']['id'],\n",
    "          bad_tracks[i]['track']['name'],\n",
    "          bad_tracks[i]['track']['popularity']]\n",
    "    data_bad.append(row)\n",
    "\n",
    "df_bad = pd.DataFrame(data=data_bad,columns=['id','name','popularity'])\n",
    "df_bad.tail()"
   ]
  },
  {
   "cell_type": "code",
   "execution_count": 6,
   "metadata": {},
   "outputs": [],
   "source": [
    "df_bad.to_csv('bad_songs.csv', index=False)"
   ]
  },
  {
   "cell_type": "code",
   "execution_count": 7,
   "metadata": {},
   "outputs": [],
   "source": [
    "good_ids=df_good['id'].tolist()\n",
    "\n",
    "# Create a function called \"chunks\" with two arguments, l and n:\n",
    "def chunks(l, n):\n",
    "    # For item i in a range that is a length of l,\n",
    "    for i in range(0, len(l), n):\n",
    "        # Create an index range for l of n items:\n",
    "        yield l[i:i+n]\n",
    "        \n",
    "# Create a list that from the results of the function chunks:\n",
    "batch1 = list(chunks(good_ids, 50))[0]"
   ]
  },
  {
   "cell_type": "code",
   "execution_count": 8,
   "metadata": {},
   "outputs": [
    {
     "data": {
      "text/html": [
       "<div>\n",
       "<style scoped>\n",
       "    .dataframe tbody tr th:only-of-type {\n",
       "        vertical-align: middle;\n",
       "    }\n",
       "\n",
       "    .dataframe tbody tr th {\n",
       "        vertical-align: top;\n",
       "    }\n",
       "\n",
       "    .dataframe thead th {\n",
       "        text-align: right;\n",
       "    }\n",
       "</style>\n",
       "<table border=\"1\" class=\"dataframe\">\n",
       "  <thead>\n",
       "    <tr style=\"text-align: right;\">\n",
       "      <th></th>\n",
       "      <th>acousticness</th>\n",
       "      <th>analysis_url</th>\n",
       "      <th>danceability</th>\n",
       "      <th>duration_ms</th>\n",
       "      <th>energy</th>\n",
       "      <th>id</th>\n",
       "      <th>instrumentalness</th>\n",
       "      <th>key</th>\n",
       "      <th>liveness</th>\n",
       "      <th>loudness</th>\n",
       "      <th>mode</th>\n",
       "      <th>speechiness</th>\n",
       "      <th>tempo</th>\n",
       "      <th>time_signature</th>\n",
       "      <th>track_href</th>\n",
       "      <th>type</th>\n",
       "      <th>uri</th>\n",
       "      <th>valence</th>\n",
       "    </tr>\n",
       "  </thead>\n",
       "  <tbody>\n",
       "    <tr>\n",
       "      <th>0</th>\n",
       "      <td>0.0383</td>\n",
       "      <td>https://api.spotify.com/v1/audio-analysis/6wQY...</td>\n",
       "      <td>0.839</td>\n",
       "      <td>171375</td>\n",
       "      <td>0.613</td>\n",
       "      <td>6wQYKyGePaqstYov2C1S5b</td>\n",
       "      <td>0.000000</td>\n",
       "      <td>2</td>\n",
       "      <td>0.323</td>\n",
       "      <td>-6.457</td>\n",
       "      <td>1</td>\n",
       "      <td>0.0463</td>\n",
       "      <td>125.011</td>\n",
       "      <td>4</td>\n",
       "      <td>https://api.spotify.com/v1/tracks/6wQYKyGePaqs...</td>\n",
       "      <td>audio_features</td>\n",
       "      <td>spotify:track:6wQYKyGePaqstYov2C1S5b</td>\n",
       "      <td>0.667</td>\n",
       "    </tr>\n",
       "    <tr>\n",
       "      <th>1</th>\n",
       "      <td>0.0145</td>\n",
       "      <td>https://api.spotify.com/v1/audio-analysis/0bya...</td>\n",
       "      <td>0.733</td>\n",
       "      <td>223533</td>\n",
       "      <td>0.839</td>\n",
       "      <td>0byab45cmZntz74RxcASrf</td>\n",
       "      <td>0.000187</td>\n",
       "      <td>1</td>\n",
       "      <td>0.162</td>\n",
       "      <td>-2.840</td>\n",
       "      <td>0</td>\n",
       "      <td>0.0335</td>\n",
       "      <td>126.009</td>\n",
       "      <td>4</td>\n",
       "      <td>https://api.spotify.com/v1/tracks/0byab45cmZnt...</td>\n",
       "      <td>audio_features</td>\n",
       "      <td>spotify:track:0byab45cmZntz74RxcASrf</td>\n",
       "      <td>0.471</td>\n",
       "    </tr>\n",
       "    <tr>\n",
       "      <th>2</th>\n",
       "      <td>0.0534</td>\n",
       "      <td>https://api.spotify.com/v1/audio-analysis/40xL...</td>\n",
       "      <td>0.732</td>\n",
       "      <td>212788</td>\n",
       "      <td>0.785</td>\n",
       "      <td>40xLrjniJVkxuWbka7KavC</td>\n",
       "      <td>0.000048</td>\n",
       "      <td>0</td>\n",
       "      <td>0.388</td>\n",
       "      <td>-5.081</td>\n",
       "      <td>1</td>\n",
       "      <td>0.0470</td>\n",
       "      <td>121.987</td>\n",
       "      <td>4</td>\n",
       "      <td>https://api.spotify.com/v1/tracks/40xLrjniJVkx...</td>\n",
       "      <td>audio_features</td>\n",
       "      <td>spotify:track:40xLrjniJVkxuWbka7KavC</td>\n",
       "      <td>0.256</td>\n",
       "    </tr>\n",
       "    <tr>\n",
       "      <th>3</th>\n",
       "      <td>0.0933</td>\n",
       "      <td>https://api.spotify.com/v1/audio-analysis/3FCl...</td>\n",
       "      <td>0.761</td>\n",
       "      <td>203976</td>\n",
       "      <td>0.696</td>\n",
       "      <td>3FClUxQc36bQc6kNlXzadI</td>\n",
       "      <td>0.168000</td>\n",
       "      <td>6</td>\n",
       "      <td>0.158</td>\n",
       "      <td>-6.837</td>\n",
       "      <td>1</td>\n",
       "      <td>0.1270</td>\n",
       "      <td>124.002</td>\n",
       "      <td>4</td>\n",
       "      <td>https://api.spotify.com/v1/tracks/3FClUxQc36bQ...</td>\n",
       "      <td>audio_features</td>\n",
       "      <td>spotify:track:3FClUxQc36bQc6kNlXzadI</td>\n",
       "      <td>0.664</td>\n",
       "    </tr>\n",
       "    <tr>\n",
       "      <th>4</th>\n",
       "      <td>0.3100</td>\n",
       "      <td>https://api.spotify.com/v1/audio-analysis/2yuo...</td>\n",
       "      <td>0.876</td>\n",
       "      <td>209634</td>\n",
       "      <td>0.741</td>\n",
       "      <td>2yuoF9C4QF9kCsoDf3yUHP</td>\n",
       "      <td>0.018500</td>\n",
       "      <td>11</td>\n",
       "      <td>0.110</td>\n",
       "      <td>-4.836</td>\n",
       "      <td>0</td>\n",
       "      <td>0.0435</td>\n",
       "      <td>122.967</td>\n",
       "      <td>4</td>\n",
       "      <td>https://api.spotify.com/v1/tracks/2yuoF9C4QF9k...</td>\n",
       "      <td>audio_features</td>\n",
       "      <td>spotify:track:2yuoF9C4QF9kCsoDf3yUHP</td>\n",
       "      <td>0.695</td>\n",
       "    </tr>\n",
       "  </tbody>\n",
       "</table>\n",
       "</div>"
      ],
      "text/plain": [
       "   acousticness                                       analysis_url  \\\n",
       "0        0.0383  https://api.spotify.com/v1/audio-analysis/6wQY...   \n",
       "1        0.0145  https://api.spotify.com/v1/audio-analysis/0bya...   \n",
       "2        0.0534  https://api.spotify.com/v1/audio-analysis/40xL...   \n",
       "3        0.0933  https://api.spotify.com/v1/audio-analysis/3FCl...   \n",
       "4        0.3100  https://api.spotify.com/v1/audio-analysis/2yuo...   \n",
       "\n",
       "   danceability  duration_ms  energy                      id  \\\n",
       "0         0.839       171375   0.613  6wQYKyGePaqstYov2C1S5b   \n",
       "1         0.733       223533   0.839  0byab45cmZntz74RxcASrf   \n",
       "2         0.732       212788   0.785  40xLrjniJVkxuWbka7KavC   \n",
       "3         0.761       203976   0.696  3FClUxQc36bQc6kNlXzadI   \n",
       "4         0.876       209634   0.741  2yuoF9C4QF9kCsoDf3yUHP   \n",
       "\n",
       "   instrumentalness  key  liveness  loudness  mode  speechiness    tempo  \\\n",
       "0          0.000000    2     0.323    -6.457     1       0.0463  125.011   \n",
       "1          0.000187    1     0.162    -2.840     0       0.0335  126.009   \n",
       "2          0.000048    0     0.388    -5.081     1       0.0470  121.987   \n",
       "3          0.168000    6     0.158    -6.837     1       0.1270  124.002   \n",
       "4          0.018500   11     0.110    -4.836     0       0.0435  122.967   \n",
       "\n",
       "   time_signature                                         track_href  \\\n",
       "0               4  https://api.spotify.com/v1/tracks/6wQYKyGePaqs...   \n",
       "1               4  https://api.spotify.com/v1/tracks/0byab45cmZnt...   \n",
       "2               4  https://api.spotify.com/v1/tracks/40xLrjniJVkx...   \n",
       "3               4  https://api.spotify.com/v1/tracks/3FClUxQc36bQ...   \n",
       "4               4  https://api.spotify.com/v1/tracks/2yuoF9C4QF9k...   \n",
       "\n",
       "             type                                   uri  valence  \n",
       "0  audio_features  spotify:track:6wQYKyGePaqstYov2C1S5b    0.667  \n",
       "1  audio_features  spotify:track:0byab45cmZntz74RxcASrf    0.471  \n",
       "2  audio_features  spotify:track:40xLrjniJVkxuWbka7KavC    0.256  \n",
       "3  audio_features  spotify:track:3FClUxQc36bQc6kNlXzadI    0.664  \n",
       "4  audio_features  spotify:track:2yuoF9C4QF9kCsoDf3yUHP    0.695  "
      ]
     },
     "execution_count": 8,
     "metadata": {},
     "output_type": "execute_result"
    }
   ],
   "source": [
    "# audio features - GOOD\n",
    "good_features = sp.audio_features(tracks=batch1)\n",
    "\n",
    "df_features_good = pd.DataFrame(good_features)\n",
    "df_features_good.head()"
   ]
  },
  {
   "cell_type": "code",
   "execution_count": 9,
   "metadata": {},
   "outputs": [],
   "source": [
    "# features documentation https://developer.spotify.com/documentation/web-api/reference/tracks/get-audio-features/"
   ]
  },
  {
   "cell_type": "code",
   "execution_count": 10,
   "metadata": {},
   "outputs": [
    {
     "data": {
      "text/plain": [
       "2"
      ]
     },
     "execution_count": 10,
     "metadata": {},
     "output_type": "execute_result"
    }
   ],
   "source": [
    "mylist = [1,2,3,4,5]\n",
    "mylist[1]\n",
    "\n",
    "# weird thing about lists indexing https://stackoverflow.com/questions/3451157/python-list-sublist-selection-1-weirdness"
   ]
  },
  {
   "cell_type": "code",
   "execution_count": 11,
   "metadata": {},
   "outputs": [],
   "source": [
    "%matplotlib inline\n",
    "import matplotlib.pyplot as plt\n",
    "import datetime\n",
    "import numpy as np\n",
    "import pandas as pd\n",
    "import seaborn as sns; sns.set()"
   ]
  },
  {
   "cell_type": "code",
   "execution_count": 16,
   "metadata": {},
   "outputs": [
    {
     "data": {
      "image/png": "[encoded data removed]",
      "text/plain": [
       "<Figure size 432x288 with 1 Axes>"
      ]
     },
     "metadata": {},
     "output_type": "display_data"
    }
   ],
   "source": [
    "# basic plots of features - distribution\n",
    "\n",
    "#plt.bar(df_features_good.index, df_features_good['danceability']);\n",
    "plt.hist(df_features_good['danceability'], density=True);"
   ]
  },
  {
   "cell_type": "code",
   "execution_count": 29,
   "metadata": {},
   "outputs": [
    {
     "data": {
      "image/png": "[encoded data removed]",
      "text/plain": [
       "<Figure size 864x864 with 9 Axes>"
      ]
     },
     "metadata": {},
     "output_type": "display_data"
    }
   ],
   "source": [
    "import warnings\n",
    "warnings.filterwarnings('ignore')\n",
    "\n",
    "sns.set_palette(\"tab10\")\n",
    "\n",
    "f, axes = plt.subplots(3, 3, figsize=(12,12))\n",
    "\n",
    "sns.distplot(df_features_good['acousticness'], ax=axes[0,0]);\n",
    "sns.distplot(df_features_good['danceability'], ax=axes[0,1]);\n",
    "sns.distplot(df_features_good['energy'], ax=axes[0,2]);\n",
    "\n",
    "sns.distplot(df_features_good['instrumentalness'], ax=axes[1,0]);\n",
    "sns.distplot(df_features_good['liveness'], ax=axes[1,1]);\n",
    "sns.distplot(df_features_good['loudness'], ax=axes[1,2]);\n",
    "\n",
    "sns.distplot(df_features_good['speechiness'], ax=axes[2,0]);\n",
    "sns.distplot(df_features_good['tempo'], ax=axes[2,1]);\n",
    "sns.distplot(df_features_good['valence'], ax=axes[2,2]);"
   ]
  },
  {
   "cell_type": "code",
   "execution_count": 24,
   "metadata": {},
   "outputs": [],
   "source": [
    "#sns.distplot(df_features_good['danceability']);"
   ]
  },
  {
   "cell_type": "code",
   "execution_count": null,
   "metadata": {},
   "outputs": [],
   "source": []
  }
 ],
 "metadata": {
  "kernelspec": {
   "display_name": "Python 3",
   "language": "python",
   "name": "python3"
  },
  "language_info": {
   "codemirror_mode": {
    "name": "ipython",
    "version": 3
   },
   "file_extension": ".py",
   "mimetype": "text/x-python",
   "name": "python",
   "nbconvert_exporter": "python",
   "pygments_lexer": "ipython3",
   "version": "3.6.5"
  }
 },
 "nbformat": 4,
 "nbformat_minor": 2
}
